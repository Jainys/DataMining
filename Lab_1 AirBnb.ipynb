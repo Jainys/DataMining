{
 "cells": [
  {
   "cell_type": "markdown",
   "metadata": {},
   "source": [
    "# File Descriptions\n",
    "1. train_users_2.csv: train dataset with users for training classification model.\n",
    "2. test_users.csv: test dataset with users for testing classification model.\n",
    "3. countries.csv: contains summary statistics about country destinations.\n",
    "4. age_gender_bkts.csv: contains summary statistics about age and gender buckets\n"
   ]
  },
  {
   "cell_type": "code",
   "execution_count": 1,
   "metadata": {
    "collapsed": false
   },
   "outputs": [],
   "source": [
    "# Python modules\n",
    "import pandas as pd\n",
    "import matplotlib as plt\n",
    "import seaborn as sns\n",
    "\n",
    "air=pd.read_csv('Data\\\\train_users_2.csv')"
   ]
  },
  {
   "cell_type": "code",
   "execution_count": 90,
   "metadata": {
    "collapsed": false
   },
   "outputs": [
    {
     "name": "stdout",
     "output_type": "stream",
     "text": [
      "id missing values: 0 which is 0.0% of the Total \n",
      "\n",
      "date_account_created missing values: 0 which is 0.0% of the Total \n",
      "\n",
      "timestamp_first_active missing values: 0 which is 0.0% of the Total \n",
      "\n",
      "date_first_booking missing values: 124543 which is 58.35% of the Total \n",
      "\n",
      "gender missing values: 0 which is 0.0% of the Total \n",
      "\n",
      "age missing values: 87990 which is 41.22% of the Total \n",
      "\n",
      "signup_method missing values: 0 which is 0.0% of the Total \n",
      "\n",
      "signup_flow missing values: 0 which is 0.0% of the Total \n",
      "\n",
      "language missing values: 0 which is 0.0% of the Total \n",
      "\n",
      "affiliate_channel missing values: 0 which is 0.0% of the Total \n",
      "\n",
      "affiliate_provider missing values: 0 which is 0.0% of the Total \n",
      "\n",
      "first_affiliate_tracked missing values: 6065 which is 2.84% of the Total \n",
      "\n",
      "signup_app missing values: 0 which is 0.0% of the Total \n",
      "\n",
      "first_device_type missing values: 0 which is 0.0% of the Total \n",
      "\n",
      "first_browser missing values: 0 which is 0.0% of the Total \n",
      "\n",
      "country_destination missing values: 0 which is 0.0% of the Total \n",
      "\n"
     ]
    }
   ],
   "source": [
    "#please note some items are marked as -unknown-\n",
    "for col in air:\n",
    "    print(col + \" missing values: \" + str(np.count_nonzero(air[col].isnull())) + \" which is \" + str(round((np.count_nonzero(air[col].isnull())/(len(air)*1.0))*100,2))+\"% of the Total \\n\")\n"
   ]
  },
  {
   "cell_type": "code",
   "execution_count": 68,
   "metadata": {
    "collapsed": false
   },
   "outputs": [],
   "source": [
    "\n",
    "air.date_account_created=air.date_account_created.astype('Datetime64')\n",
    "air.timestamp_first_active=pd.to_datetime(air.timestamp_first_active)\n",
    "\n",
    "air['date_first_booking'] = pd.to_datetime(air['date_first_booking'])\n",
    "air.gender=air.gender.astype('unicode')\n",
    "air.signup_method=air.signup_method.astype('str')\n",
    "air.signup_flow=air.signup_flow.astype('Int64')\n"
   ]
  },
  {
   "cell_type": "code",
   "execution_count": 64,
   "metadata": {
    "collapsed": false
   },
   "outputs": [
    {
     "data": {
      "text/plain": [
       "<matplotlib.axes._subplots.AxesSubplot at 0x262fd240>"
      ]
     },
     "execution_count": 64,
     "metadata": {},
     "output_type": "execute_result"
    },
    {
     "data": {
      "image/png": "[encoded data removed]",
      "text/plain": [
       "<matplotlib.figure.Figure at 0x236662e8>"
      ]
     },
     "metadata": {},
     "output_type": "display_data"
    }
   ],
   "source": [
    "import numpy as np\n",
    "%matplotlib inline\n",
    "air.age.hist(bins=1000)\n",
    "\n"
   ]
  }
 ],
 "metadata": {
  "kernelspec": {
   "display_name": "Python 2",
   "language": "python",
   "name": "python2"
  },
  "language_info": {
   "codemirror_mode": {
    "name": "ipython",
    "version": 2
   },
   "file_extension": ".py",
   "mimetype": "text/x-python",
   "name": "python",
   "nbconvert_exporter": "python",
   "pygments_lexer": "ipython2",
   "version": "2.7.11"
  }
 },
 "nbformat": 4,
 "nbformat_minor": 0
}
